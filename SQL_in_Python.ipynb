{
  "nbformat": 4,
  "nbformat_minor": 0,
  "metadata": {
    "kernelspec": {
      "display_name": "Python 3",
      "language": "python",
      "name": "python3"
    },
    "language_info": {
      "codemirror_mode": {
        "name": "ipython",
        "version": 3
      },
      "file_extension": ".py",
      "mimetype": "text/x-python",
      "name": "python",
      "nbconvert_exporter": "python",
      "pygments_lexer": "ipython3",
      "version": "3.7.3"
    },
    "colab": {
      "name": "SQL_in_Python",
      "provenance": [],
      "collapsed_sections": []
    }
  },
  "cells": [
    {
      "cell_type": "code",
      "metadata": {
        "id": "Li_P-HIEHK2g",
        "colab_type": "code",
        "outputId": "085e4f93-9dbb-4692-d235-6761207e383d",
        "colab": {
          "base_uri": "https://localhost:8080/",
          "height": 277
        }
      },
      "source": [
        "!pip install sqlalchemy\n",
        "!pip install psycopg2\n",
        "!pip install psycopg2-binary\n",
        "!pip install seaborn==0.9.0\n",
        "## call all python libraries \n",
        "import pandas as pd\n",
        "import requests\n",
        "import math\n",
        "import seaborn as sns \n",
        "sns.set()\n",
        "import statistics \n",
        "import numpy as np\n",
        "from matplotlib import pyplot as plt\n",
        "from numpy.random import randint\n",
        "from numpy import mean\n",
        "from scipy import stats\n",
        "from numpy.random import seed\n",
        "import scipy, pylab\n",
        "\n",
        "from sqlalchemy import create_engine\n",
        "import matplotlib.pyplot as plt\n",
        "%matplotlib inline\n",
        "## call all python libraries "
      ],
      "execution_count": 0,
      "outputs": [
        {
          "output_type": "stream",
          "text": [
            "Requirement already satisfied: sqlalchemy in /usr/local/lib/python3.6/dist-packages (1.3.15)\n",
            "Requirement already satisfied: psycopg2 in /usr/local/lib/python3.6/dist-packages (2.7.6.1)\n",
            "Requirement already satisfied: psycopg2-binary in /usr/local/lib/python3.6/dist-packages (2.8.4)\n",
            "Requirement already satisfied: seaborn==0.9.0 in /usr/local/lib/python3.6/dist-packages (0.9.0)\n",
            "Requirement already satisfied: numpy>=1.9.3 in /usr/local/lib/python3.6/dist-packages (from seaborn==0.9.0) (1.18.2)\n",
            "Requirement already satisfied: scipy>=0.14.0 in /usr/local/lib/python3.6/dist-packages (from seaborn==0.9.0) (1.4.1)\n",
            "Requirement already satisfied: matplotlib>=1.4.3 in /usr/local/lib/python3.6/dist-packages (from seaborn==0.9.0) (3.2.1)\n",
            "Requirement already satisfied: pandas>=0.15.2 in /usr/local/lib/python3.6/dist-packages (from seaborn==0.9.0) (0.25.3)\n",
            "Requirement already satisfied: pyparsing!=2.0.4,!=2.1.2,!=2.1.6,>=2.0.1 in /usr/local/lib/python3.6/dist-packages (from matplotlib>=1.4.3->seaborn==0.9.0) (2.4.6)\n",
            "Requirement already satisfied: kiwisolver>=1.0.1 in /usr/local/lib/python3.6/dist-packages (from matplotlib>=1.4.3->seaborn==0.9.0) (1.1.0)\n",
            "Requirement already satisfied: cycler>=0.10 in /usr/local/lib/python3.6/dist-packages (from matplotlib>=1.4.3->seaborn==0.9.0) (0.10.0)\n",
            "Requirement already satisfied: python-dateutil>=2.1 in /usr/local/lib/python3.6/dist-packages (from matplotlib>=1.4.3->seaborn==0.9.0) (2.8.1)\n",
            "Requirement already satisfied: pytz>=2017.2 in /usr/local/lib/python3.6/dist-packages (from pandas>=0.15.2->seaborn==0.9.0) (2018.9)\n",
            "Requirement already satisfied: setuptools in /usr/local/lib/python3.6/dist-packages (from kiwisolver>=1.0.1->matplotlib>=1.4.3->seaborn==0.9.0) (46.0.0)\n",
            "Requirement already satisfied: six in /usr/local/lib/python3.6/dist-packages (from cycler>=0.10->matplotlib>=1.4.3->seaborn==0.9.0) (1.12.0)\n"
          ],
          "name": "stdout"
        }
      ]
    },
    {
      "cell_type": "markdown",
      "metadata": {
        "id": "qODim1mEDR1I",
        "colab_type": "text"
      },
      "source": [
        "# How many movies are released for each rating?"
      ]
    },
    {
      "cell_type": "code",
      "metadata": {
        "id": "H7JvNnfRHK2x",
        "colab_type": "code",
        "outputId": "c1f80593-451a-4563-d177-6139019fbdf9",
        "colab": {}
      },
      "source": [
        "\n",
        "\n",
        "# Database credentials\n",
        "postgres_user = 'dsbc_student'\n",
        "postgres_pw = '7*.8G9QH21'\n",
        "postgres_host = '142.93.121.174'\n",
        "postgres_port = '5432'\n",
        "postgres_db = 'dvdrentals'\n",
        "# call the database \n",
        "engine = create_engine('postgresql://{}:{}@{}:{}/{}'.format(\n",
        "    postgres_user, postgres_pw, postgres_host, postgres_port, postgres_db))\n",
        "\n",
        "# Use the connection to execute some SQL\n",
        "dvds = engine.execute('select distinct rating , count(title) as total_movies FROM film group by rating')\n",
        "print(dvds.keys())\n",
        "# no need for an open connection, as we're only doing a single query\n",
        "engine.dispose()\n",
        "\n",
        "for i in dvds:\n",
        "    print(i)\n"
      ],
      "execution_count": 0,
      "outputs": [
        {
          "output_type": "stream",
          "text": [
            "['rating', 'total_movies']\n",
            "('G', 178)\n",
            "('PG', 194)\n",
            "('PG-13', 223)\n",
            "('R', 195)\n",
            "('NC-17', 210)\n"
          ],
          "name": "stdout"
        }
      ]
    },
    {
      "cell_type": "markdown",
      "metadata": {
        "id": "RA1TqbsfDPFg",
        "colab_type": "text"
      },
      "source": [
        "# What is the average rental duration for each rating?"
      ]
    },
    {
      "cell_type": "code",
      "metadata": {
        "id": "MF1CaWz4HK22",
        "colab_type": "code",
        "outputId": "28bd84a5-32e7-4435-a203-df824b4dcc2d",
        "colab": {}
      },
      "source": [
        "\n",
        "average = engine.execute('select distinct rating as rating , round(avg(rental_duration),2) as avg_rent_time FROM film group by rating')\n",
        "engine.dispose()\n",
        "print(average.keys())\n",
        "rows = average.fetchall()\n",
        "for row in rows:\n",
        "    print(row)\n",
        "rating = [x['rating'] for x in rows]\n",
        "avg = [x['avg_rent_time'] for x in rows]\n"
      ],
      "execution_count": 0,
      "outputs": [
        {
          "output_type": "stream",
          "text": [
            "['rating', 'avg_rent_time']\n",
            "('G', Decimal('4.84'))\n",
            "('PG', Decimal('5.08'))\n",
            "('PG-13', Decimal('5.05'))\n",
            "('R', Decimal('4.77'))\n",
            "('NC-17', Decimal('5.14'))\n"
          ],
          "name": "stdout"
        }
      ]
    },
    {
      "cell_type": "markdown",
      "metadata": {
        "id": "ijQ7mkJiDUwI",
        "colab_type": "text"
      },
      "source": [
        "#What is the mean movie length? "
      ]
    },
    {
      "cell_type": "code",
      "metadata": {
        "id": "-aPs5QW7HK27",
        "colab_type": "code",
        "outputId": "1276875c-4f5f-44e1-894a-93e45f77425a",
        "colab": {}
      },
      "source": [
        "# A simple implementation simply iterating the array\n",
        "def mean(numbers):\n",
        "  total_sum = 0;  # initialize the sum to zero\n",
        "  for n in numbers:\n",
        "    total_sum += n # add up the numbers in the array\n",
        "  count = len(numbers)   # find the length of the array\n",
        "  avg = total_sum / count  # calculate the mean\n",
        "  return avg  # return the result\n",
        "\n",
        "# use fetchall() to get a list of rows from the results.\n",
        "sql = '''\n",
        "select length FROM film '''\n",
        "mean_length = engine.execute(sql)\n",
        "engine.dispose()\n",
        "\n",
        "rows = mean_length.fetchall()\n",
        "mean_length = [x['length'] for x in rows]\n",
        "print('The median of the charges is {}'.format(mean(mean_length)))"
      ],
      "execution_count": 0,
      "outputs": [
        {
          "output_type": "stream",
          "text": [
            "The median of the charges is 115.272\n"
          ],
          "name": "stdout"
        }
      ]
    },
    {
      "cell_type": "markdown",
      "metadata": {
        "id": "nHsUIRIMDawC",
        "colab_type": "text"
      },
      "source": [
        "#What is the median movie length?"
      ]
    },
    {
      "cell_type": "code",
      "metadata": {
        "id": "kgslWAiVHK3A",
        "colab_type": "code",
        "outputId": "633a55ec-1c19-45bd-e3d7-9a5671cac2e6",
        "colab": {}
      },
      "source": [
        "\n",
        "def median(numbers):\n",
        "  numbers.sort()  # sort the list of numbers\n",
        "  count = len(numbers) # get the length of the array\n",
        "  isEven = count % 2 == 0 # check if this list is of even length\n",
        "  \n",
        "  if (isEven):\n",
        "    # find the two numbers in the middle of the array\n",
        "    mid = math.floor( count / 2 )\n",
        "    a = numbers[mid - 1]\n",
        "    b = numbers[mid]\n",
        "    # find the average of these two numbers\n",
        "    ans = (a + b) / 2\n",
        "  else:\n",
        "    ans = numbers[math.floor( count / 2 )]\n",
        " \n",
        "  return ans\n",
        "\n",
        "sql = '''\n",
        "select length FROM film '''\n",
        "length = engine.execute(sql)\n",
        "engine.dispose()\n",
        "\n",
        "rows = length.fetchall()\n",
        "length = [x['length'] for x in rows]\n",
        "print('The median of the charges is {}'.format(median(length)))"
      ],
      "execution_count": 0,
      "outputs": [
        {
          "output_type": "stream",
          "text": [
            "The median of the charges is 114.0\n"
          ],
          "name": "stdout"
        }
      ]
    },
    {
      "cell_type": "markdown",
      "metadata": {
        "id": "cTl0KrQEDiLg",
        "colab_type": "text"
      },
      "source": [
        "\n",
        "# Calculate the standard deviation of the movie lengths"
      ]
    },
    {
      "cell_type": "code",
      "metadata": {
        "id": "vE3oflnUHK3G",
        "colab_type": "code",
        "outputId": "71df9790-2a22-46ed-ae66-7289d7bfe2b0",
        "colab": {}
      },
      "source": [
        "\n",
        "def standard_deviation(numbers):\n",
        "  X_bar = mean(numbers)\n",
        "  N = len(numbers)\n",
        "  total_sum = 0\n",
        "  for X in numbers:\n",
        "    diff = X - X_bar\n",
        "    squared = math.pow(diff, 2)\n",
        "    total_sum += squared\n",
        "  sigma = math.sqrt(total_sum / (N - 1))  \n",
        "  return sigma\n",
        "sql = '''\n",
        "select length FROM film '''\n",
        "length = engine.execute(sql)\n",
        "engine.dispose()\n",
        "\n",
        "rows = length.fetchall()\n",
        "length = [x['length'] for x in rows]\n",
        "print('The standard deviation of the charges is {}'.format(standard_deviation(length)))"
      ],
      "execution_count": 0,
      "outputs": [
        {
          "output_type": "stream",
          "text": [
            "The standard deviation of the charges is 40.42633181855987\n"
          ],
          "name": "stdout"
        }
      ]
    },
    {
      "cell_type": "markdown",
      "metadata": {
        "id": "8BGzP0ofVYuJ",
        "colab_type": "text"
      },
      "source": [
        "# Now the Department of Education SQL Database"
      ]
    },
    {
      "cell_type": "markdown",
      "metadata": {
        "id": "reTpUCGGXtvF",
        "colab_type": "text"
      },
      "source": [
        "A query that allows you to inspect the schema of the naep table."
      ]
    },
    {
      "cell_type": "code",
      "metadata": {
        "id": "IhH2sfrhVcBy",
        "colab_type": "code",
        "outputId": "24b710d5-c490-4760-adc4-b870ffc772a2",
        "colab": {
          "base_uri": "https://localhost:8080/",
          "height": 176
        }
      },
      "source": [
        "# Database credentials\n",
        "postgres_user = 'dsbc_student'\n",
        "postgres_pw = '7*.8G9QH21'\n",
        "postgres_host = '142.93.121.174'\n",
        "postgres_port = '5432'\n",
        "postgres_db = 'department_of_education'\n",
        "# call the database \n",
        "engine = create_engine('postgresql://{}:{}@{}:{}/{}'.format(\n",
        "    postgres_user, postgres_pw, postgres_host, postgres_port, postgres_db))\n",
        "\n",
        "# Use the connection to execute some SQL\n",
        "sql = '''\n",
        "SELECT *\n",
        "FROM INFORMATION_SCHEMA.COLUMNS\n",
        "WHERE TABLE_NAME='naep'\n",
        "'''\n",
        "engine.dispose()\n",
        "\n",
        "department_of_education = engine.execute(sql)\n",
        "print(department_of_education)\n",
        "# no need for an open connection, as we're only doing a single query\n",
        "\n",
        "rows = department_of_education.fetchall()\n",
        "for row in rows:\n",
        "    print(row)"
      ],
      "execution_count": 0,
      "outputs": [
        {
          "output_type": "stream",
          "text": [
            "<sqlalchemy.engine.result.ResultProxy object at 0x7f8a413341d0>\n",
            "('department_of_education', 'public', 'naep', 'avg_math_4_score', 1, None, 'YES', 'numeric', None, None, None, 10, None, None, None, None, None, None, None, None, None, None, None, None, None, 'department_of_education', 'pg_catalog', 'numeric', None, None, None, None, '1', 'NO', 'NO', None, None, None, None, None, 'NO', 'NEVER', None, 'YES')\n",
            "('department_of_education', 'public', 'naep', 'avg_math_8_score', 2, None, 'YES', 'numeric', None, None, None, 10, None, None, None, None, None, None, None, None, None, None, None, None, None, 'department_of_education', 'pg_catalog', 'numeric', None, None, None, None, '2', 'NO', 'NO', None, None, None, None, None, 'NO', 'NEVER', None, 'YES')\n",
            "('department_of_education', 'public', 'naep', 'avg_reading_4_score', 3, None, 'YES', 'numeric', None, None, None, 10, None, None, None, None, None, None, None, None, None, None, None, None, None, 'department_of_education', 'pg_catalog', 'numeric', None, None, None, None, '3', 'NO', 'NO', None, None, None, None, None, 'NO', 'NEVER', None, 'YES')\n",
            "('department_of_education', 'public', 'naep', 'avg_reading_8_score', 4, None, 'YES', 'numeric', None, None, None, 10, None, None, None, None, None, None, None, None, None, None, None, None, None, 'department_of_education', 'pg_catalog', 'numeric', None, None, None, None, '4', 'NO', 'NO', None, None, None, None, None, 'NO', 'NEVER', None, 'YES')\n",
            "('department_of_education', 'public', 'naep', 'id', 5, None, 'YES', 'character varying', None, 1073741824, None, None, None, None, None, None, None, None, None, None, None, None, None, None, None, 'department_of_education', 'pg_catalog', 'varchar', None, None, None, None, '5', 'NO', 'NO', None, None, None, None, None, 'NO', 'NEVER', None, 'YES')\n",
            "('department_of_education', 'public', 'naep', 'state', 6, None, 'YES', 'character varying', None, 1073741824, None, None, None, None, None, None, None, None, None, None, None, None, None, None, None, 'department_of_education', 'pg_catalog', 'varchar', None, None, None, None, '6', 'NO', 'NO', None, None, None, None, None, 'NO', 'NEVER', None, 'YES')\n",
            "('department_of_education', 'public', 'naep', 'year', 7, None, 'YES', 'integer', None, None, 32, 2, 0, None, None, None, None, None, None, None, None, None, None, None, None, 'department_of_education', 'pg_catalog', 'int4', None, None, None, None, '7', 'NO', 'NO', None, None, None, None, None, 'NO', 'NEVER', None, 'YES')\n"
          ],
          "name": "stdout"
        }
      ]
    },
    {
      "cell_type": "markdown",
      "metadata": {
        "id": "2Wqh4dg0Xw2m",
        "colab_type": "text"
      },
      "source": [
        "A query that returns the first 50 records of the naep table."
      ]
    },
    {
      "cell_type": "code",
      "metadata": {
        "id": "wXWA9nDEV28n",
        "colab_type": "code",
        "outputId": "e09a375f-19ac-4829-f8ef-d1d4ce29a124",
        "colab": {
          "base_uri": "https://localhost:8080/",
          "height": 208
        }
      },
      "source": [
        "# Use the connection to execute some SQL\n",
        "sql = '''\n",
        "SELECT *\n",
        "FROM naep\n",
        "LIMIT 50;\n",
        "'''\n",
        "engine.dispose()\n",
        "\n",
        "department_of_education = engine.execute(sql)\n",
        "print(department_of_education)\n",
        "# no need for an open connection, as we're only doing a single query\n",
        "\n",
        "rows = department_of_education.fetchall()\n",
        "i = 0\n",
        "for row in rows:\n",
        "  # limit number of rows to 10 so it doesnt take up to much space\n",
        "  if i < 10:\n",
        "    print(row)\n",
        "    i += 1"
      ],
      "execution_count": 0,
      "outputs": [
        {
          "output_type": "stream",
          "text": [
            "<sqlalchemy.engine.result.ResultProxy object at 0x7f8a41346898>\n",
            "(Decimal('232.171'), Decimal('268.312'), Decimal('216.42'), Decimal('257.687'), '2017_ALABAMA', 'ALABAMA', 2017)\n",
            "(Decimal('230.456'), Decimal('277.016'), Decimal('207.038'), Decimal('257.668'), '2017_ALASKA', 'ALASKA', 2017)\n",
            "(Decimal('234.436'), Decimal('282.248'), Decimal('215.466'), Decimal('262.957'), '2017_ARIZONA', 'ARIZONA', 2017)\n",
            "(Decimal('233.848'), Decimal('273.76'), Decimal('216.108'), Decimal('259.956'), '2017_ARKANSAS', 'ARKANSAS', 2017)\n",
            "(Decimal('232.263'), Decimal('276.638'), Decimal('215.422'), Decimal('262.521'), '2017_CALIFORNIA', 'CALIFORNIA', 2017)\n",
            "(Decimal('240.695'), Decimal('286.248'), Decimal('224.692'), Decimal('270.339'), '2017_COLORADO', 'COLORADO', 2017)\n",
            "(Decimal('239.238'), Decimal('284.144'), Decimal('228.355'), Decimal('272.538'), '2017_CONNECTICUT', 'CONNECTICUT', 2017)\n",
            "(Decimal('236.128'), Decimal('278.023'), Decimal('221.482'), Decimal('263.089'), '2017_DELAWARE', 'DELAWARE', 2017)\n",
            "(Decimal('231.32'), Decimal('265.78'), Decimal('213.382'), Decimal('246.788'), '2017_DISTRICT_OF_COLUMBIA', 'DISTRICT_OF_COLUMBIA', 2017)\n",
            "(Decimal('246.368'), Decimal('279.12'), Decimal('228.273'), Decimal('280.499'), '2017_FLORIDA', 'FLORIDA', 2017)\n"
          ],
          "name": "stdout"
        }
      ]
    },
    {
      "cell_type": "markdown",
      "metadata": {
        "id": "4GqXEXzlYJgX",
        "colab_type": "text"
      },
      "source": [
        "return summary statistics for avg_math_4_score by state, and sort the results alphabetically by state name."
      ]
    },
    {
      "cell_type": "code",
      "metadata": {
        "id": "NAcFxH7MX1Bz",
        "colab_type": "code",
        "outputId": "c1b0959d-0dc6-4f96-cc54-2cecd2f9192a",
        "colab": {
          "base_uri": "https://localhost:8080/",
          "height": 208
        }
      },
      "source": [
        "# Use the connection to execute some SQL\n",
        "sql = '''\n",
        "SELECT state, COUNT(*), AVG(avg_math_4_score), MIN(avg_math_4_score), MAX(avg_math_4_score)\n",
        "FROM naep\n",
        "GROUP BY state\n",
        "ORDER BY state;\n",
        "'''\n",
        "engine.dispose()\n",
        "\n",
        "department_of_education = engine.execute(sql)\n",
        "print(department_of_education)\n",
        "# no need for an open connection, as we're only doing a single query\n",
        "\n",
        "rows = department_of_education.fetchall()\n",
        "i = 0\n",
        "for row in rows:\n",
        "  # limit number of rows to 10 so it doesnt take up to much space\n",
        "  if i < 10:\n",
        "    print(row)\n",
        "    i += 1"
      ],
      "execution_count": 0,
      "outputs": [
        {
          "output_type": "stream",
          "text": [
            "<sqlalchemy.engine.result.ResultProxy object at 0x7f8a4133a828>\n",
            "('ALABAMA', 11, Decimal('224.5554545454545455'), Decimal('208.328'), Decimal('232.861'))\n",
            "('ALASKA', 11, Decimal('234.0097777777777778'), Decimal('223.833'), Decimal('237.274'))\n",
            "('ARIZONA', 11, Decimal('229.0680000000000000'), Decimal('215.254'), Decimal('240.305'))\n",
            "('ARKANSAS', 11, Decimal('229.9675454545454545'), Decimal('210.206'), Decimal('239.891'))\n",
            "('CALIFORNIA', 11, Decimal('225.6595454545454545'), Decimal('208.399'), Decimal('234.165'))\n",
            "('COLORADO', 11, Decimal('237.8267000000000000'), Decimal('221.023'), Decimal('246.976'))\n",
            "('CONNECTICUT', 11, Decimal('238.9570909090909091'), Decimal('226.798'), Decimal('244.718'))\n",
            "('DELAWARE', 11, Decimal('234.8061000000000000'), Decimal('215.025'), Decimal('243.108'))\n",
            "('DISTRICT_OF_COLUMBIA', 11, Decimal('212.2754545454545455'), Decimal('187.135'), Decimal('231.32'))\n",
            "('FLORIDA', 11, Decimal('235.6613000000000000'), Decimal('213.69'), Decimal('246.368'))\n"
          ],
          "name": "stdout"
        }
      ]
    },
    {
      "cell_type": "markdown",
      "metadata": {
        "id": "kvL--Rv-Yeqj",
        "colab_type": "text"
      },
      "source": [
        "Return a field called bottom_10_states that lists the states in the bottom 10 for avg_math_4_score in the year 2000."
      ]
    },
    {
      "cell_type": "code",
      "metadata": {
        "id": "o3NS1LWeYRbU",
        "colab_type": "code",
        "outputId": "9b145368-057e-4854-8311-3733b66abaab",
        "colab": {
          "base_uri": "https://localhost:8080/",
          "height": 208
        }
      },
      "source": [
        "# Use the connection to execute some SQL\n",
        "sql = '''\n",
        "SELECT state AS bottom_10_states , avg_math_4_score\n",
        "FROM naep \n",
        "WHERE year=2000 \n",
        "ORDER BY avg_math_4_score \n",
        "LIMIT 10;\n",
        "'''\n",
        "engine.dispose()\n",
        "\n",
        "department_of_education = engine.execute(sql)\n",
        "print(department_of_education)\n",
        "# no need for an open connection, as we're only doing a single query\n",
        "\n",
        "rows = department_of_education.fetchall()\n",
        "i = 0\n",
        "for row in rows:\n",
        "    print(row)"
      ],
      "execution_count": 0,
      "outputs": [
        {
          "output_type": "stream",
          "text": [
            "<sqlalchemy.engine.result.ResultProxy object at 0x7f8a4132fe48>\n",
            "('DISTRICT_OF_COLUMBIA', Decimal('193.29'))\n",
            "('MISSISSIPPI', Decimal('210.97'))\n",
            "('CALIFORNIA', Decimal('213.565'))\n",
            "('NEW_MEXICO', Decimal('213.868'))\n",
            "('HAWAII', Decimal('215.847'))\n",
            "('ARKANSAS', Decimal('217.063'))\n",
            "('ALABAMA', Decimal('217.941'))\n",
            "('LOUISIANA', Decimal('217.964'))\n",
            "('ARIZONA', Decimal('218.767'))\n",
            "('GEORGIA', Decimal('219.557'))\n"
          ],
          "name": "stdout"
        }
      ]
    },
    {
      "cell_type": "markdown",
      "metadata": {
        "id": "bnb6UetNYlcq",
        "colab_type": "text"
      },
      "source": [
        "A query that returns for the year 2000 the state, avg_math_4_score, and total_expenditure from the naep table left outer joined with the finance table using id as the key and ordered by total_expenditure greatest to least."
      ]
    },
    {
      "cell_type": "code",
      "metadata": {
        "id": "n8F8Cpn1Yk7M",
        "colab_type": "code",
        "outputId": "df99d634-64b6-41ab-87e1-a82932822104",
        "colab": {
          "base_uri": "https://localhost:8080/",
          "height": 208
        }
      },
      "source": [
        "# Use the connection to execute some SQL\n",
        "sql = '''\n",
        "SELECT naep.state , round(avg_math_4_score,2) as avg_math_4_score , total_expenditure\n",
        "FROM naep Left Outer JOIN finance\n",
        "ON naep.id = finance.id\n",
        "Where finance.year = 2000 and  avg_math_4_score is not null\n",
        "order by total_expenditure desc;\n",
        "\n",
        "'''\n",
        "engine.dispose()\n",
        "\n",
        "department_of_education = engine.execute(sql)\n",
        "print(department_of_education)\n",
        "# no need for an open connection, as we're only doing a single query\n",
        "\n",
        "rows = department_of_education.fetchall()\n",
        "i = 0\n",
        "for row in rows:\n",
        "  # limit number of rows to 10 so it doesnt take up to much space\n",
        "  if i < 10:\n",
        "    print(row)\n",
        "    i += 1\n"
      ],
      "execution_count": 0,
      "outputs": [
        {
          "output_type": "stream",
          "text": [
            "<sqlalchemy.engine.result.ResultProxy object at 0x7f8a4133a2e8>\n",
            "('CALIFORNIA', Decimal('213.57'), 45829753)\n",
            "('NEW_YORK', Decimal('226.56'), 33683043)\n",
            "('TEXAS', Decimal('232.67'), 31067935)\n",
            "('ILLINOIS', Decimal('224.93'), 18073190)\n",
            "('MICHIGAN', Decimal('230.89'), 16580526)\n",
            "('OHIO', Decimal('230.57'), 14909952)\n",
            "('GEORGIA', Decimal('219.56'), 10884510)\n",
            "('MASSACHUSETTS', Decimal('234.96'), 9466363)\n",
            "('NORTH_CAROLINA', Decimal('232.46'), 9275837)\n",
            "('VIRGINIA', Decimal('230.40'), 9154676)\n"
          ],
          "name": "stdout"
        }
      ]
    },
    {
      "cell_type": "code",
      "metadata": {
        "id": "1LLZ_R8MY00L",
        "colab_type": "code",
        "colab": {}
      },
      "source": [
        ""
      ],
      "execution_count": 0,
      "outputs": []
    }
  ]
}